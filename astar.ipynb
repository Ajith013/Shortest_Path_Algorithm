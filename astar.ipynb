{
 "cells": [
  {
   "cell_type": "markdown",
   "metadata": {},
   "source": [
    "__A star algorithm implementation__"
   ]
  },
  {
   "cell_type": "code",
   "execution_count": 56,
   "metadata": {},
   "outputs": [],
   "source": [
    "import numpy as np"
   ]
  },
  {
   "cell_type": "markdown",
   "metadata": {},
   "source": [
    "Initializing the node parent, position and the three costs (g,h,f)"
   ]
  },
  {
   "cell_type": "markdown",
   "metadata": {},
   "source": [
    "g : Distance from start point to current node"
   ]
  },
  {
   "cell_type": "markdown",
   "metadata": {},
   "source": [
    "h :Distance from current node to the end node"
   ]
  },
  {
   "cell_type": "markdown",
   "metadata": {},
   "source": [
    "f: Start to end node distance"
   ]
  },
  {
   "cell_type": "code",
   "execution_count": 63,
   "metadata": {},
   "outputs": [],
   "source": [
    "class Node():\n",
    "    def __init__(self, parent = None, position = None):\n",
    "        self.parent = parent\n",
    "        self.position = position\n",
    "        \n",
    "        self.g = 0\n",
    "        self.h = 0\n",
    "        self.f = 0\n",
    "        \n",
    "    def __eq__(self, othernode):\n",
    "        return self.position == othernode.position"
   ]
  },
  {
   "cell_type": "code",
   "execution_count": 64,
   "metadata": {},
   "outputs": [],
   "source": [
    "def a_star(areamap, start, end):\n",
    "    \n",
    "    #Initializing start and end node\n",
    "    start_node = Node(None, start)\n",
    "    start_node.g = start_node.h = start_node.f = 0\n",
    "    end_node = Node(None, end)\n",
    "    end_node.g = end_node.h = end_node.f = 0\n",
    "    \n",
    "    #Creating two list to keep track of nodes already visited and nodes pending to be visited\n",
    "    already_visited = []\n",
    "    pending_visit = []\n",
    "    \n",
    "    #Add the start node to pending_visit list \n",
    "    pending_visit.append(start_node)\n",
    "    \n",
    "    #Selecting each node based on cost f\n",
    "    while len(pending_visit) > 0:\n",
    "        \n",
    "        current_node = pending_visit[0]\n",
    "        current_index = 0\n",
    "        for index, item in enumerate(pending_visit):\n",
    "            if item.f < current_node.f:\n",
    "                current_node = item\n",
    "                current_index = index\n",
    "        \n",
    "        #removing the visited node pending_visit list and adding it to the already visited list\n",
    "        pending_visit.pop(current_index)\n",
    "        already_visited.append(current_node)\n",
    "        \n",
    "        #if the goal / end_node is already reached then tracing the path from end_node to start_node and then \n",
    "        #reversing it \n",
    "        \n",
    "        if current_node == end_node:\n",
    "            path = []\n",
    "            current = current_node\n",
    "            \n",
    "            while current is not None:\n",
    "                path.append(current.position)\n",
    "                current = current.parent\n",
    "            return path[::-1]\n",
    "        \n",
    "        \n",
    "        child_pos = []\n",
    "        \n",
    "        for next_pos in [(0, -1), (0, 1), (-1, 0), (1, 0), (-1, -1), (-1, 1), (1, -1), (1, 1)]:\n",
    "            \n",
    "            node_pos = (current_node.position[0]+ next_pos[0],current_node.position[1] + next_pos[1])\n",
    "            \n",
    "            #Check whether the position is within the arena or map\n",
    "            if node_pos[0] >(len(areamap)-1) or node_pos[0] < 0 or node_pos[1] > (len(areamap[len(areamap)-1])-1) or node_pos[1] < 0:\n",
    "                continue\n",
    "                \n",
    "            #Make sure the map position exists\n",
    "            if areamap[node_pos[0]][node_pos[1]] != 0:\n",
    "                continue\n",
    "                \n",
    "            new_node = Node(current_node, node_pos) #Parent, position\n",
    "            \n",
    "            child_pos.append(new_node)\n",
    "            \n",
    "        for child in child_pos:\n",
    "                \n",
    "            for already_vis in already_visited:\n",
    "                if child == already_vis:\n",
    "                    continue\n",
    "            #Create f, g and h value\n",
    "            child.g = current_node.g +1 \n",
    "            child.h = ((child.position[0] - end_node.position[0])**2) + ((child.position[1] - end_node.position[1])**2)\n",
    "            child.f = child.g + child.h\n",
    "                \n",
    "            for yeta in pending_visit:\n",
    "                if child == yeta and child.g > yeta.g:\n",
    "                    continue\n",
    "                \n",
    "            pending_visit.append(child)\n"
   ]
  },
  {
   "cell_type": "code",
   "execution_count": 65,
   "metadata": {},
   "outputs": [],
   "source": [
    "def main():\n",
    "\n",
    "    maze = [[0, 0, 0, 0, 1, 0, 0, 0, 0, 0],\n",
    "            [0, 0, 0, 0, 1, 0, 0, 0, 0, 0],\n",
    "            [0, 0, 0, 0, 1, 0, 0, 0, 0, 0],\n",
    "            [0, 0, 0, 0, 1, 0, 0, 0, 0, 0],\n",
    "            [0, 0, 0, 0, 1, 0, 0, 0, 0, 0],\n",
    "            [0, 0, 0, 0, 0, 0, 0, 0, 0, 0],\n",
    "            [0, 0, 0, 0, 1, 0, 0, 0, 0, 0],\n",
    "            [0, 0, 0, 0, 1, 0, 0, 0, 0, 0],\n",
    "            [0, 0, 0, 0, 1, 0, 0, 0, 0, 0],\n",
    "            [0, 0, 0, 0, 0, 0, 0, 0, 0, 0]]\n",
    "\n",
    "    start = (0, 0)\n",
    "    end = (5, 6)\n",
    "\n",
    "    path = a_star(maze, start, end)\n",
    "    print(path)"
   ]
  },
  {
   "cell_type": "code",
   "execution_count": 66,
   "metadata": {},
   "outputs": [
    {
     "name": "stdout",
     "output_type": "stream",
     "text": [
      "[(0, 0), (1, 1), (2, 2), (3, 3), (4, 3), (5, 4), (5, 5), (5, 6)]\n"
     ]
    }
   ],
   "source": [
    "if __name__ == '__main__':\n",
    "    main()"
   ]
  },
  {
   "cell_type": "code",
   "execution_count": null,
   "metadata": {},
   "outputs": [],
   "source": []
  },
  {
   "cell_type": "code",
   "execution_count": null,
   "metadata": {},
   "outputs": [],
   "source": []
  }
 ],
 "metadata": {
  "kernelspec": {
   "display_name": "Python 3",
   "language": "python",
   "name": "python3"
  },
  "language_info": {
   "codemirror_mode": {
    "name": "ipython",
    "version": 3
   },
   "file_extension": ".py",
   "mimetype": "text/x-python",
   "name": "python",
   "nbconvert_exporter": "python",
   "pygments_lexer": "ipython3",
   "version": "3.7.3"
  }
 },
 "nbformat": 4,
 "nbformat_minor": 4
}
