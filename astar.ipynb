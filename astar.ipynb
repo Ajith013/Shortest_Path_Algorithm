{
 "cells": [
  {
   "cell_type": "markdown",
   "metadata": {},
   "source": [
    "__A star algorithm implementation__"
   ]
  },
  {
   "cell_type": "code",
   "execution_count": 1,
   "metadata": {},
   "outputs": [],
   "source": [
    "import numpy as np"
   ]
  },
  {
   "cell_type": "markdown",
   "metadata": {},
   "source": [
    "Initializing the node parent, position and the three costs (g,h,f)"
   ]
  },
  {
   "cell_type": "markdown",
   "metadata": {},
   "source": [
    "g : Distance from start point to current node"
   ]
  },
  {
   "cell_type": "markdown",
   "metadata": {},
   "source": [
    "h :Distance from current node to the end node"
   ]
  },
  {
   "cell_type": "markdown",
   "metadata": {},
   "source": [
    "f: Start to end node distance"
   ]
  },
  {
   "cell_type": "code",
   "execution_count": 3,
   "metadata": {},
   "outputs": [],
   "source": [
    "class Node:\n",
    "    def __init__(self, parent = None, position = None):\n",
    "        self.parent = parent\n",
    "        self.position = position\n",
    "        \n",
    "        self.g = 0\n",
    "        self.h = 0\n",
    "        self.f = 0\n",
    "        \n",
    "    def __eg__(self, othernode):\n",
    "        return self.position == othernode.position"
   ]
  },
  {
   "cell_type": "code",
   "execution_count": 5,
   "metadata": {},
   "outputs": [],
   "source": [
    "def a_star(areamap, start, end):\n",
    "    \n",
    "    #Initializing start and end node\n",
    "    start_node = Node(None, start)\n",
    "    start_node.g = start_node.h = start_node.f = 0\n",
    "    end_node = Node(None, end)\n",
    "    end_node.g = end_node.h = end_node.f = 0\n",
    "    \n",
    "    #Creating two list to keep track of nodes already visited and nodes pending to be visited\n",
    "    already_visited = []\n",
    "    pending_visit = []\n",
    "    \n",
    "    #Add the start node to pending_visit list \n",
    "    pending_visit.append(start_node)\n",
    "    \n",
    "    #Selecting each node based on cost f\n",
    "    while len(pending_visit) >0:\n",
    "        \n",
    "        current_node = pending_visit[0]\n",
    "        current_index = 0\n",
    "        \n",
    "        for index, item in enumerate(pending_visit):\n",
    "            if item.f > current_node.f:\n",
    "                current_node = item\n",
    "                current_index = index\n",
    "        \n",
    "        #removing the visited node pending_visit list and adding it to the already visited list\n",
    "        pending_visit.pop(current_index)\n",
    "        already_visited.append(current_node)\n",
    "        \n",
    "        #if the goal / end_node is already reached then tracing the path from end_node to start_node and then \n",
    "        #reversing it \n",
    "        \n",
    "        if current_node == end_node:\n",
    "            path = []\n",
    "            current = current_node\n",
    "            \n",
    "            while current is not None:\n",
    "                path.append(current.position)\n",
    "                current = current.parent\n",
    "            return path[::-1]\n",
    "        \n",
    "        next_position = [(0,1),\n",
    "                         (0,-1),\n",
    "                         (1,0),\n",
    "                         (-1,0)]\n",
    "        \n",
    "        child_pos = []\n",
    "        \n",
    "        for next_pos in next_position:\n",
    "            "
   ]
  },
  {
   "cell_type": "code",
   "execution_count": null,
   "metadata": {},
   "outputs": [],
   "source": []
  }
 ],
 "metadata": {
  "kernelspec": {
   "display_name": "Python 3",
   "language": "python",
   "name": "python3"
  },
  "language_info": {
   "codemirror_mode": {
    "name": "ipython",
    "version": 3
   },
   "file_extension": ".py",
   "mimetype": "text/x-python",
   "name": "python",
   "nbconvert_exporter": "python",
   "pygments_lexer": "ipython3",
   "version": "3.5.2"
  }
 },
 "nbformat": 4,
 "nbformat_minor": 4
}
